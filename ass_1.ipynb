{
  "nbformat": 4,
  "nbformat_minor": 0,
  "metadata": {
    "colab": {
      "provenance": [],
      "authorship_tag": "ABX9TyOnUvLO3dHIHHlwaUxq9VaA",
      "include_colab_link": true
    },
    "kernelspec": {
      "name": "python3",
      "display_name": "Python 3"
    },
    "language_info": {
      "name": "python"
    }
  },
  "cells": [
    {
      "cell_type": "markdown",
      "metadata": {
        "id": "view-in-github",
        "colab_type": "text"
      },
      "source": [
        "<a href=\"https://colab.research.google.com/github/DotBion/NYU-DS-Bootcamp/blob/main/ass_1.ipynb\" target=\"_parent\"><img src=\"https://colab.research.google.com/assets/colab-badge.svg\" alt=\"Open In Colab\"/></a>"
      ]
    },
    {
      "cell_type": "markdown",
      "source": [
        "#Additional Challenge - Books data challenge\n",
        "##1.Checking Book Ratings\n",
        "\n",
        "####Write a function check_rating(book) that takes a book dictionary and returns True if the rating is greater than 4.5, and False otherwise. Additionally, modify the function to return 'low' if the rating is less than or equal to 4.0, 'medium' if it's greater than 4.0 but less than or equal to 4.5, and 'high' if it's greater than 4.5.\n",
        "\n",
        "##2.Average Rating by Genre\n",
        "\n",
        "####Write a function average_rating_by_genre(books, genre) that accepts the list of books and a genre, and returns the average rating for that genre. If the genre does not exist in the list, return an appropriate message.\n",
        "\n",
        "#3.Books by Author\n",
        "\n",
        "####Write a function books_by_author(books, author) that accepts the book list and an author's name, and returns a list of all the books written by that author. If the author does not exist, raise a custom error."
      ],
      "metadata": {
        "id": "faWFN_WX9wWs"
      }
    },
    {
      "cell_type": "code",
      "source": [
        "books = [\n",
        "    {\n",
        "        \"title\": \"The Great Gatsby\",\n",
        "        \"author\": \"F. Scott Fitzgerald\",\n",
        "        \"genre\": \"Fiction\",\n",
        "        \"rating\": 4.2\n",
        "    },\n",
        "    {\n",
        "        \"title\": \"To Kill a Mockingbird\",\n",
        "        \"author\": \"Harper Lee\",\n",
        "        \"genre\": \"Classic\",\n",
        "        \"rating\": 4.5\n",
        "    },\n",
        "    {\n",
        "        \"title\": \"1984\",\n",
        "        \"author\": \"George Orwell\",\n",
        "        \"genre\": \"Dystopian\",\n",
        "        \"rating\": 4.8\n",
        "    },\n",
        "    {\n",
        "        \"title\": \"Pride and Prejudice\",\n",
        "        \"author\": \"Jane Austen\",\n",
        "        \"genre\": \"Romance\",\n",
        "        \"rating\": 4.7\n",
        "    },\n",
        "    {\n",
        "        \"title\": \"Harry Potter and the Sorcerer's Stone\",\n",
        "        \"author\": \"J.K. Rowling\",\n",
        "        \"genre\": \"Fantasy\",\n",
        "        \"rating\": 4.9\n",
        "    },\n",
        "    {\n",
        "        \"title\": \"The Catcher in the Rye\",\n",
        "        \"author\": \"J.D. Salinger\",\n",
        "        \"genre\": \"Coming-of-age\",\n",
        "        \"rating\": 4.1\n",
        "    }\n",
        "]"
      ],
      "metadata": {
        "id": "d0SRDpwP-JI0"
      },
      "execution_count": 16,
      "outputs": []
    },
    {
      "cell_type": "code",
      "source": [
        "def check_rating(book):\n",
        "  if book['rating'] > 4.5:\n",
        "    return \"High\"\n",
        "  elif book['rating'] > 4.0:\n",
        "    return \"Medium\"\n",
        "  else:\n",
        "    return \"Low\"\n",
        "\n",
        "check_rating(books[4])"
      ],
      "metadata": {
        "colab": {
          "base_uri": "https://localhost:8080/",
          "height": 35
        },
        "id": "lykvOu0H-R5o",
        "outputId": "da39946b-33b3-4328-ecfe-4727a1800247"
      },
      "execution_count": 18,
      "outputs": [
        {
          "output_type": "execute_result",
          "data": {
            "text/plain": [
              "'High'"
            ],
            "application/vnd.google.colaboratory.intrinsic+json": {
              "type": "string"
            }
          },
          "metadata": {},
          "execution_count": 18
        }
      ]
    },
    {
      "cell_type": "code",
      "source": [
        "def  average_rating_by_genre(books, genre):\n",
        "  tr = 0\n",
        "  c = 0\n",
        "  for book in books:\n",
        "    if book['genre'] == genre:\n",
        "      tr += book['rating']\n",
        "      c += 1\n",
        "  if c :\n",
        "    return tr/c\n",
        "  else:\n",
        "    return \"Genre not found\"\n",
        "average_rating_by_genre(books,'Fantasy')\n",
        ""
      ],
      "metadata": {
        "colab": {
          "base_uri": "https://localhost:8080/"
        },
        "id": "0oESEpUQBj9E",
        "outputId": "2ddde12c-7679-41f3-cd67-97cc941dd9da"
      },
      "execution_count": 19,
      "outputs": [
        {
          "output_type": "execute_result",
          "data": {
            "text/plain": [
              "4.9"
            ]
          },
          "metadata": {},
          "execution_count": 19
        }
      ]
    },
    {
      "cell_type": "code",
      "source": [
        "def books_by_author(books, author) :\n",
        "  auth_books = []\n",
        "  for book in books:\n",
        "    if book['author'] == author:\n",
        "      auth_books.append(book['title'])\n",
        "  if auth_books:\n",
        "    return auth_books\n",
        "  else:\n",
        "    return \"Author not found\"\n",
        "\n",
        "books_by_author(books,'J.K. Rowling')"
      ],
      "metadata": {
        "colab": {
          "base_uri": "https://localhost:8080/"
        },
        "id": "el8bhrt4B_jr",
        "outputId": "996e81c9-2bdc-4436-8ecf-61d2429a8863"
      },
      "execution_count": 20,
      "outputs": [
        {
          "output_type": "execute_result",
          "data": {
            "text/plain": [
              "[\"Harry Potter and the Sorcerer's Stone\"]"
            ]
          },
          "metadata": {},
          "execution_count": 20
        }
      ]
    },
    {
      "cell_type": "markdown",
      "source": [
        "##Assignment Questions (Solved in Reversed Chronological Order)\n",
        "\n",
        "1.⁠ ⁠Display Fibonacci Series upto 10 terms\n",
        "\n",
        "2.⁠ ⁠Display numbers at the odd indices of a list\n",
        "\n",
        "3.⁠ ⁠⁠string = \"\"\"\n",
        "I have provided this text to provide tips on creating interesting paragraphs.\n",
        "First, start with a clear topic sentence that introduces the main idea.\n",
        "Then, support the topic sentence with specific details, examples, and evidence.\n",
        "Vary the sentence length and structure to keep the reader engaged.\n",
        "Finally, end with a strong concluding sentence that summarizes the main points.\n",
        "Remember, practice makes perfect!\n",
        "\"\"\"\n",
        "####Your task is to count the number of different words in this text\n",
        "\n",
        "4.⁠ ⁠Write a function count_vowels(word) that takes a word as an argument and returns the number of vowels in the word\n",
        "\n",
        "5.⁠ ⁠Iterate through the following list of animals and print each one in all caps.\n",
        "animals=['tiger', 'elephant', 'monkey', 'zebra', 'panther']\n",
        "\n",
        "6.⁠ ⁠Write a program that iterates from 1 to 20, printing each number and whether it's odd or even.\n",
        "\n",
        "7.⁠ ⁠Write a function sum_of_integers(a, b) that takes two integers as input from the user and returns their sum.\n",
        "\n",
        "####Additional optional  problems are in the jupyter notebook uploaded on github"
      ],
      "metadata": {
        "id": "7H6aHCzc5HKt"
      }
    },
    {
      "cell_type": "code",
      "source": [
        "def sum_of_integers(a,b):\n",
        "  return a+b\n",
        "sum_of_integers(1,2)"
      ],
      "metadata": {
        "colab": {
          "base_uri": "https://localhost:8080/"
        },
        "id": "SJ54uhyu9Um6",
        "outputId": "6e2cb48b-11ac-44ff-c62e-5fb01cf0bfb5"
      },
      "execution_count": 14,
      "outputs": [
        {
          "output_type": "execute_result",
          "data": {
            "text/plain": [
              "3"
            ]
          },
          "metadata": {},
          "execution_count": 14
        }
      ]
    },
    {
      "cell_type": "code",
      "source": [
        "for i in range(1,21):\n",
        "  if i%2 == 0:\n",
        "    print(i,'even')\n",
        "  else:\n",
        "    print(i,'odd')"
      ],
      "metadata": {
        "colab": {
          "base_uri": "https://localhost:8080/"
        },
        "id": "HqWYLfAm9GfX",
        "outputId": "3f2dad34-72c1-451f-9ecd-722348f0b587"
      },
      "execution_count": 12,
      "outputs": [
        {
          "output_type": "stream",
          "name": "stdout",
          "text": [
            "1 odd\n",
            "2 even\n",
            "3 odd\n",
            "4 even\n",
            "5 odd\n",
            "6 even\n",
            "7 odd\n",
            "8 even\n",
            "9 odd\n",
            "10 even\n",
            "11 odd\n",
            "12 even\n",
            "13 odd\n",
            "14 even\n",
            "15 odd\n",
            "16 even\n",
            "17 odd\n",
            "18 even\n",
            "19 odd\n",
            "20 even\n"
          ]
        }
      ]
    },
    {
      "cell_type": "code",
      "source": [
        "animals=['tiger', 'elephant', 'monkey', 'zebra', 'panther']\n",
        "for animal in animals:\n",
        "  print(animal.upper())"
      ],
      "metadata": {
        "colab": {
          "base_uri": "https://localhost:8080/"
        },
        "id": "u09Qaga8814g",
        "outputId": "0794a287-02ed-4d85-de45-6c90178aa901"
      },
      "execution_count": 11,
      "outputs": [
        {
          "output_type": "stream",
          "name": "stdout",
          "text": [
            "TIGER\n",
            "ELEPHANT\n",
            "MONKEY\n",
            "ZEBRA\n",
            "PANTHER\n"
          ]
        }
      ]
    },
    {
      "cell_type": "code",
      "source": [
        "def count_vowels(word):\n",
        "  vowels = ['a','e','i','o','u']\n",
        "  count = 0\n",
        "  for w in word:\n",
        "    if w in vowels:\n",
        "      count += 1\n",
        "  return count\n",
        "count_vowels('hello world')"
      ],
      "metadata": {
        "colab": {
          "base_uri": "https://localhost:8080/"
        },
        "id": "1CKMh9BO8gGU",
        "outputId": "8bca0210-9d54-4435-9631-65d70d21e994"
      },
      "execution_count": 10,
      "outputs": [
        {
          "output_type": "execute_result",
          "data": {
            "text/plain": [
              "3"
            ]
          },
          "metadata": {},
          "execution_count": 10
        }
      ]
    },
    {
      "cell_type": "code",
      "source": [
        "string = \"\"\"I have provided this text to provide tips on creating interesting paragraphs. First, start with a clear topic sentence that introduces the main idea. Then, support the topic sentence with specific details, examples, and evidence. Vary the sentence length and structure to keep the reader engaged. Finally, end with a strong concluding sentence that summarizes the main points. Remember, practice makes perfect! \"\"\"\n",
        "string_list = string.split()\n",
        "string_set = set(string_list)\n",
        "print(len(string_set))"
      ],
      "metadata": {
        "colab": {
          "base_uri": "https://localhost:8080/"
        },
        "id": "Tk4cfgcX7oVN",
        "outputId": "e29f3287-10a9-46d1-9218-380e25e57305"
      },
      "execution_count": 7,
      "outputs": [
        {
          "output_type": "stream",
          "name": "stdout",
          "text": [
            "47\n"
          ]
        }
      ]
    },
    {
      "cell_type": "code",
      "source": [
        "list = [i for i in range(0,20)]\n",
        "for i in list:\n",
        "  if i%2 == 1:\n",
        "    print(i)"
      ],
      "metadata": {
        "colab": {
          "base_uri": "https://localhost:8080/"
        },
        "id": "CogG7QFZ6dVA",
        "outputId": "39184b1a-3452-4ed0-fa22-d1c67940cf14"
      },
      "execution_count": 6,
      "outputs": [
        {
          "output_type": "stream",
          "name": "stdout",
          "text": [
            "1\n",
            "3\n",
            "5\n",
            "7\n",
            "9\n",
            "11\n",
            "13\n",
            "15\n",
            "17\n",
            "19\n"
          ]
        }
      ]
    },
    {
      "cell_type": "code",
      "execution_count": 2,
      "metadata": {
        "colab": {
          "base_uri": "https://localhost:8080/"
        },
        "id": "mVUMP8sk5CuM",
        "outputId": "2fb5460d-b0f5-4ce4-a794-8b15034127de"
      },
      "outputs": [
        {
          "output_type": "stream",
          "name": "stdout",
          "text": [
            "0\n",
            "1\n",
            "1\n",
            "2\n",
            "3\n",
            "5\n",
            "8\n",
            "13\n",
            "21\n",
            "34\n"
          ]
        }
      ],
      "source": [
        "a = 0\n",
        "b = 1\n",
        "for i in range(10):\n",
        "  print(a)\n",
        "  c=a+b\n",
        "  a=b\n",
        "  b=c"
      ]
    }
  ]
}